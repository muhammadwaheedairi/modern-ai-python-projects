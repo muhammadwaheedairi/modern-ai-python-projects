{
  "cells": [
    {
      "cell_type": "markdown",
      "id": "9c59679c",
      "metadata": {
        "id": "9c59679c"
      },
      "source": [
        "# 01_dicesimulator"
      ]
    },
    {
      "cell_type": "code",
      "execution_count": null,
      "id": "bb65ea83",
      "metadata": {
        "colab": {
          "base_uri": "https://localhost:8080/"
        },
        "id": "bb65ea83",
        "outputId": "fe3258df-f140-46f5-d06d-4389db8e377a"
      },
      "outputs": [
        {
          "output_type": "stream",
          "name": "stdout",
          "text": [
            "Rolling the dice three times:\n",
            "First die: 1\n",
            "Second die: 4\n",
            "Total of two dice: 5\n",
            "First die: 4\n",
            "Second die: 5\n",
            "Total of two dice: 9\n",
            "First die: 4\n",
            "Second die: 3\n",
            "Total of two dice: 7\n"
          ]
        }
      ],
      "source": [
        "import random\n",
        "\n",
        "NUM_SIDES = 6\n",
        "\n",
        "def roll_dice():\n",
        "    die1 = random.randint(1, NUM_SIDES)\n",
        "    die2 = random.randint(1, NUM_SIDES)\n",
        "    total = die1 + die2\n",
        "    print(f\"First die: {die1}\")\n",
        "    print(f\"Second die: {die2}\")\n",
        "    print(f\"Total of two dice: {total}\")\n",
        "\n",
        "def main():\n",
        "    print(\"Rolling the dice three times:\")\n",
        "    roll_dice()\n",
        "    roll_dice()\n",
        "    roll_dice()\n",
        "\n",
        "if __name__ == '__main__':\n",
        "    main()"
      ]
    },
    {
      "cell_type": "markdown",
      "id": "b102a492",
      "metadata": {
        "id": "b102a492"
      },
      "source": [
        "# 02_e=mc2\n"
      ]
    },
    {
      "cell_type": "code",
      "execution_count": null,
      "id": "51bab155",
      "metadata": {
        "colab": {
          "base_uri": "https://localhost:8080/"
        },
        "id": "51bab155",
        "outputId": "9455477b-c5d9-4954-a69f-5eb1e92c3d03"
      },
      "outputs": [
        {
          "output_type": "stream",
          "name": "stdout",
          "text": [
            "Enter kilos of mass: 23\n",
            "e = m * C^2...\n",
            "m = 23.0 kg\n",
            "C = 299792458 m/s\n",
            "2.0671369110946806e+18 joules of energy!\n"
          ]
        }
      ],
      "source": [
        "C = 299792458  # The speed of light in m/s\n",
        "\n",
        "def main():\n",
        "    mass_in_kg = float(input(\"Enter kilos of mass: \"))\n",
        "    energy_in_joules = mass_in_kg * (C ** 2)\n",
        "    print(\"e = m * C^2...\")\n",
        "    print(f\"m = {mass_in_kg} kg\")\n",
        "    print(f\"C = {C} m/s\")\n",
        "    print(f\"{energy_in_joules} joules of energy!\")\n",
        "\n",
        "if __name__ == '__main__':\n",
        "    main()"
      ]
    },
    {
      "cell_type": "markdown",
      "id": "baebbcba",
      "metadata": {
        "id": "baebbcba"
      },
      "source": [
        "# 03_feet_to_inches"
      ]
    },
    {
      "cell_type": "code",
      "execution_count": null,
      "id": "0d38b660",
      "metadata": {
        "colab": {
          "base_uri": "https://localhost:8080/"
        },
        "id": "0d38b660",
        "outputId": "b33adf77-e98a-43e4-ebe6-0f6f5aff2583"
      },
      "outputs": [
        {
          "output_type": "stream",
          "name": "stdout",
          "text": [
            "Enter number of feet: 34\n",
            "That is 408.0 inches!\n"
          ]
        }
      ],
      "source": [
        "INCHES_IN_FOOT = 12\n",
        "\n",
        "def main():\n",
        "    feet = float(input(\"Enter number of feet: \"))\n",
        "    inches = feet * INCHES_IN_FOOT\n",
        "    print(f\"That is {inches} inches!\")\n",
        "\n",
        "if __name__ == '__main__':\n",
        "    main()"
      ]
    },
    {
      "cell_type": "markdown",
      "id": "34f5012d",
      "metadata": {
        "id": "34f5012d"
      },
      "source": [
        "# 04_pythagorean_theorem"
      ]
    },
    {
      "cell_type": "code",
      "execution_count": null,
      "id": "0089f0c9",
      "metadata": {
        "colab": {
          "base_uri": "https://localhost:8080/"
        },
        "id": "0089f0c9",
        "outputId": "1c91f1f4-c445-48ea-b705-ab5f844709b3"
      },
      "outputs": [
        {
          "output_type": "stream",
          "name": "stdout",
          "text": [
            "Enter the length of AB: 12\n",
            "Enter the length of AC: 12\n",
            "The length of BC (the hypotenuse) is: 16.97056274847714\n"
          ]
        }
      ],
      "source": [
        "import math\n",
        "\n",
        "def main():\n",
        "    ab = float(input(\"Enter the length of AB: \"))\n",
        "    ac = float(input(\"Enter the length of AC: \"))\n",
        "    bc = math.sqrt(ab**2 + ac**2)\n",
        "    print(f\"The length of BC (the hypotenuse) is: {bc}\")\n",
        "\n",
        "if __name__ == '__main__':\n",
        "    main()"
      ]
    },
    {
      "cell_type": "markdown",
      "id": "2be313f3",
      "metadata": {
        "id": "2be313f3"
      },
      "source": [
        "# 05_remainder_division"
      ]
    },
    {
      "cell_type": "code",
      "execution_count": null,
      "id": "012cc597",
      "metadata": {
        "colab": {
          "base_uri": "https://localhost:8080/"
        },
        "id": "012cc597",
        "outputId": "568c9b58-9730-48b6-8ac0-7023740ca402"
      },
      "outputs": [
        {
          "output_type": "stream",
          "name": "stdout",
          "text": [
            "Please enter an integer to be divided: 56\n",
            "Please enter an integer to divide by: 6\n",
            "The result of this division is 9 with a remainder of 2\n"
          ]
        }
      ],
      "source": [
        "def main():\n",
        "    dividend = int(input(\"Please enter an integer to be divided: \"))\n",
        "    divisor = int(input(\"Please enter an integer to divide by: \"))\n",
        "    quotient = dividend // divisor\n",
        "    remainder = dividend % divisor\n",
        "    print(f\"The result of this division is {quotient} with a remainder of {remainder}\")\n",
        "\n",
        "if __name__ == '__main__':\n",
        "    main()"
      ]
    },
    {
      "cell_type": "markdown",
      "id": "79f618a7",
      "metadata": {
        "id": "79f618a7"
      },
      "source": [
        "# 06_rolldice"
      ]
    },
    {
      "cell_type": "code",
      "execution_count": null,
      "id": "cb16aee5",
      "metadata": {
        "id": "cb16aee5"
      },
      "outputs": [],
      "source": [
        "import random\n",
        "\n",
        "NUM_SIDES = 6\n",
        "\n",
        "def main():\n",
        "    die1 = random.randint(1, NUM_SIDES)\n",
        "    die2 = random.randint(1, NUM_SIDES)\n",
        "    total = die1 + die2\n",
        "    print(f\"Dice have {NUM_SIDES} sides each.\")\n",
        "    print(f\"First die: {die1}\")\n",
        "    print(f\"Second die: {die2}\")\n",
        "    print(f\"Total of two dice: {total}\")\n",
        "\n",
        "if __name__ == '__main__':\n",
        "    main()"
      ]
    },
    {
      "cell_type": "markdown",
      "id": "12fa8c11",
      "metadata": {
        "id": "12fa8c11"
      },
      "source": [
        "# 06_seconds_in_year"
      ]
    },
    {
      "cell_type": "code",
      "execution_count": null,
      "id": "de92885c",
      "metadata": {
        "colab": {
          "base_uri": "https://localhost:8080/"
        },
        "id": "de92885c",
        "outputId": "7f0944a8-42ff-486e-ec93-7133e793d2df"
      },
      "outputs": [
        {
          "output_type": "stream",
          "name": "stdout",
          "text": [
            "There are 31536000 seconds in a year!\n"
          ]
        }
      ],
      "source": [
        "DAYS_PER_YEAR = 365\n",
        "HOURS_PER_DAY = 24\n",
        "MIN_PER_HOUR = 60\n",
        "SEC_PER_MIN = 60\n",
        "\n",
        "def main():\n",
        "    seconds_in_year = DAYS_PER_YEAR * HOURS_PER_DAY * MIN_PER_HOUR * SEC_PER_MIN\n",
        "    print(f\"There are {seconds_in_year} seconds in a year!\")\n",
        "\n",
        "if __name__ == '__main__':\n",
        "    main()"
      ]
    },
    {
      "cell_type": "markdown",
      "id": "9ffdcf21",
      "metadata": {
        "id": "9ffdcf21"
      },
      "source": [
        "# 07_tiny_mad_lib"
      ]
    },
    {
      "cell_type": "code",
      "execution_count": null,
      "id": "c93b2a83",
      "metadata": {
        "id": "c93b2a83"
      },
      "outputs": [],
      "source": [
        "SENTENCE_START = \"Panaversity is fun. I learned to program and used Python to make my \"\n",
        "\n",
        "def main():\n",
        "    adjective = input(\"Please type an adjective and press enter. \")\n",
        "    noun = input(\"Please type a noun and press enter. \")\n",
        "    verb = input(\"Please type a verb and press enter. \")\n",
        "    print(SENTENCE_START + adjective + \" \" + noun + \" \" + verb + \"!\")\n",
        "\n",
        "if __name__ == '__main__':\n",
        "    main()"
      ]
    }
  ],
  "metadata": {
    "colab": {
      "provenance": [],
      "collapsed_sections": [
        "9c59679c",
        "b102a492",
        "baebbcba",
        "34f5012d",
        "2be313f3",
        "79f618a7"
      ]
    },
    "language_info": {
      "name": "python"
    },
    "kernelspec": {
      "name": "python3",
      "display_name": "Python 3"
    }
  },
  "nbformat": 4,
  "nbformat_minor": 5
}